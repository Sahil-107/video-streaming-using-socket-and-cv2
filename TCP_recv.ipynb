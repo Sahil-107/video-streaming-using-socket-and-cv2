{
 "cells": [
  {
   "cell_type": "code",
   "execution_count": 2,
   "metadata": {},
   "outputs": [
    {
     "name": "stdout",
     "output_type": "stream",
     "text": [
      "Socket created\n",
      "Socket bind complete\n",
      "Socket now listening\n",
      "Client_Exited\n"
     ]
    }
   ],
   "source": [
    "import pickle\n",
    "import socket\n",
    "import struct\n",
    "\n",
    "import cv2\n",
    "\n",
    "HOST = '192.168.43.35'\n",
    "PORT = 8089\n",
    "\n",
    "s = socket.socket(socket.AF_INET, socket.SOCK_STREAM)\n",
    "print('Socket created')\n",
    "\n",
    "s.bind((HOST, PORT))\n",
    "print('Socket binding complete')\n",
    "s.listen(10)\n",
    "print('Socket now listening')\n",
    "\n",
    "conn, addr = s.accept()\n",
    "\n",
    "data = b'' \n",
    "payload_size = struct.calcsize(\"L\") \n",
    "while True:\n",
    "\n",
    "    # Retrieve message size\n",
    "    while len(data) < payload_size:\n",
    "        data += conn.recv(4096)\n",
    "\n",
    "    packed_msg_size = data[:payload_size]\n",
    "    data = data[payload_size:]\n",
    "    msg_size = struct.unpack(\"L\", packed_msg_size)[0] \n",
    "\n",
    "    # Retrieve all data based on message size\n",
    "    while len(data) < msg_size:\n",
    "        data += conn.recv(4096)\n",
    "\n",
    "    frame_data = data[:msg_size]\n",
    "    data = data[msg_size:]\n",
    "\n",
    "    # Extract frame\n",
    "    frame = pickle.loads(frame_data)\n",
    "\n",
    "    # Display\n",
    "    cv2.imshow('Client_stream', frame)\n",
    "    if cv2.waitKey(1) == 13:\n",
    "        cv2.destroyAllWindows()\n",
    "        print(\"Client_Exited\")\n",
    "        break\n",
    "    "
   ]
  },
  {
   "cell_type": "code",
   "execution_count": null,
   "metadata": {},
   "outputs": [],
   "source": []
  }
 ],
 "metadata": {
  "kernelspec": {
   "display_name": "Python 3",
   "language": "python",
   "name": "python3"
  },
  "language_info": {
   "codemirror_mode": {
    "name": "ipython",
    "version": 3
   },
   "file_extension": ".py",
   "mimetype": "text/x-python",
   "name": "python",
   "nbconvert_exporter": "python",
   "pygments_lexer": "ipython3",
   "version": "3.8.2"
  }
 },
 "nbformat": 4,
 "nbformat_minor": 4
}
