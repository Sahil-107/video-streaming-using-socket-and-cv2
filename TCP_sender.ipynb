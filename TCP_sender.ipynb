{
 "cells": [
  {
   "cell_type": "code",
   "execution_count": null,
   "metadata": {},
   "outputs": [],
   "source": [
    "import cv2\n",
    "import numpy as np\n",
    "import socket\n",
    "import sys\n",
    "import pickle\n",
    "import struct\n",
    "\n",
    "cap=cv2.VideoCapture(0)\n",
    "clientsocket=socket.socket(socket.AF_INET,socket.SOCK_STREAM)\n",
    "clientsocket.connect(('192.168.43.35',8089))\n",
    "\n",
    "while True:\n",
    "    ret,frame=cap.read()\n",
    "    # Serialize frame\n",
    "    data = pickle.dumps(frame)\n",
    "\n",
    "    # Send message length first\n",
    "    message_size = struct.pack(\"L\", len(data))\n",
    "\n",
    "    # Then data\n",
    "    clientsocket.sendall(message_size + data)\n",
    "    \n"
   ]
  },
  {
   "cell_type": "code",
   "execution_count": null,
   "metadata": {},
   "outputs": [],
   "source": []
  }
 ],
 "metadata": {
  "kernelspec": {
   "display_name": "Python 3",
   "language": "python",
   "name": "python3"
  },
  "language_info": {
   "codemirror_mode": {
    "name": "ipython",
    "version": 3
   },
   "file_extension": ".py",
   "mimetype": "text/x-python",
   "name": "python",
   "nbconvert_exporter": "python",
   "pygments_lexer": "ipython3",
   "version": "3.8.2"
  }
 },
 "nbformat": 4,
 "nbformat_minor": 4
}
