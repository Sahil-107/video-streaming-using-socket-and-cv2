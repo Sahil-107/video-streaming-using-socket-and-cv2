{
 "cells": [
  {
   "cell_type": "code",
   "execution_count": 6,
   "id": "56dc9142",
   "metadata": {},
   "outputs": [],
   "source": [
    "import cv2\n",
    "import socket"
   ]
  },
  {
   "cell_type": "code",
   "execution_count": 7,
   "id": "e36551ab",
   "metadata": {},
   "outputs": [
    {
     "name": "stdout",
     "output_type": "stream",
     "text": [
      "Enter your friend's name: negi\n",
      "Enter your friend's IP: 192.168.29.73\n"
     ]
    }
   ],
   "source": [
    "name=input(\"Enter your friend's name: \")\n",
    "friend_ip=input(\"Enter your friend's IP: \")"
   ]
  },
  {
   "cell_type": "code",
   "execution_count": 8,
   "id": "808415fa",
   "metadata": {},
   "outputs": [],
   "source": [
    "def ip_address():\n",
    "    s = socket.socket(socket.AF_INET, socket.SOCK_DGRAM)\n",
    "    s.connect((\"8.8.8.8\", 80))\n",
    "    ipv4=s.getsockname()[0]\n",
    "    s.close()\n",
    "    return ipv4"
   ]
  },
  {
   "cell_type": "code",
   "execution_count": 9,
   "id": "2bdcbaea",
   "metadata": {},
   "outputs": [],
   "source": [
    "ip=ip_address()\n",
    "port=9000\n",
    "s=socket.socket(socket.AF_INET, socket.SOCK_DGRAM)\n",
    "s.bind((ip,port))"
   ]
  },
  {
   "cell_type": "code",
   "execution_count": 29,
   "id": "da29f6d9",
   "metadata": {},
   "outputs": [],
   "source": [
    "max_gram=2**16"
   ]
  },
  {
   "cell_type": "code",
   "execution_count": 30,
   "id": "cf0c367a",
   "metadata": {},
   "outputs": [
    {
     "ename": "TypeError",
     "evalue": "a bytes-like object is required, not 'tuple'",
     "output_type": "error",
     "traceback": [
      "\u001b[0;31m---------------------------------------------------------------------------\u001b[0m",
      "\u001b[0;31mTypeError\u001b[0m                                 Traceback (most recent call last)",
      "\u001b[0;32m<ipython-input-30-8bfeb6a79947>\u001b[0m in \u001b[0;36m<module>\u001b[0;34m\u001b[0m\n\u001b[1;32m      2\u001b[0m \u001b[0;32mwhile\u001b[0m \u001b[0;32mTrue\u001b[0m\u001b[0;34m:\u001b[0m\u001b[0;34m\u001b[0m\u001b[0;34m\u001b[0m\u001b[0m\n\u001b[1;32m      3\u001b[0m     \u001b[0mx\u001b[0m\u001b[0;34m=\u001b[0m\u001b[0ms\u001b[0m\u001b[0;34m.\u001b[0m\u001b[0mrecvfrom\u001b[0m\u001b[0;34m(\u001b[0m\u001b[0mmax_gram\u001b[0m\u001b[0;34m)\u001b[0m\u001b[0;34m\u001b[0m\u001b[0;34m\u001b[0m\u001b[0m\n\u001b[0;32m----> 4\u001b[0;31m     \u001b[0mframe\u001b[0m \u001b[0;34m=\u001b[0m \u001b[0mcv2\u001b[0m\u001b[0;34m.\u001b[0m\u001b[0mimdecode\u001b[0m\u001b[0;34m(\u001b[0m\u001b[0mnumpy\u001b[0m\u001b[0;34m.\u001b[0m\u001b[0mfromstring\u001b[0m\u001b[0;34m(\u001b[0m\u001b[0mx\u001b[0m\u001b[0;34m,\u001b[0m \u001b[0mdtype\u001b[0m\u001b[0;34m=\u001b[0m\u001b[0mnumpy\u001b[0m\u001b[0;34m.\u001b[0m\u001b[0muint8\u001b[0m\u001b[0;34m)\u001b[0m\u001b[0;34m,\u001b[0m \u001b[0;36m1\u001b[0m\u001b[0;34m)\u001b[0m\u001b[0;34m\u001b[0m\u001b[0;34m\u001b[0m\u001b[0m\n\u001b[0m\u001b[1;32m      5\u001b[0m     \u001b[0;31m#nparr = numpy.fromstring(x, numpy.uint8)\u001b[0m\u001b[0;34m\u001b[0m\u001b[0;34m\u001b[0m\u001b[0;34m\u001b[0m\u001b[0m\n\u001b[1;32m      6\u001b[0m     \u001b[0;31m#frame = cv2.imdecode(x, cv2.IMREAD_COLOR)\u001b[0m\u001b[0;34m\u001b[0m\u001b[0;34m\u001b[0m\u001b[0;34m\u001b[0m\u001b[0m\n",
      "\u001b[0;31mTypeError\u001b[0m: a bytes-like object is required, not 'tuple'"
     ]
    }
   ],
   "source": [
    "import numpy\n",
    "while True:\n",
    "    x=s.recvfrom(max_gram)\n",
    "    frame = cv2.imdecode(numpy.fromstring(x, dtype=numpy.uint8), 1)\n",
    "    #nparr = numpy.fromstring(x, numpy.uint8)\n",
    "    #frame = cv2.imdecode(x, cv2.IMREAD_COLOR)\n",
    "    cv2.startWindowThread()\n",
    "    cv2.imshow('.jpg',frame)\n",
    "    if cv2.waitKey(0) & 0xFF == ord('q'):\n",
    "        break\n"
   ]
  },
  {
   "cell_type": "code",
   "execution_count": null,
   "id": "8364ec2e",
   "metadata": {},
   "outputs": [],
   "source": []
  }
 ],
 "metadata": {
  "kernelspec": {
   "display_name": "Python 3",
   "language": "python",
   "name": "python3"
  },
  "language_info": {
   "codemirror_mode": {
    "name": "ipython",
    "version": 3
   },
   "file_extension": ".py",
   "mimetype": "text/x-python",
   "name": "python",
   "nbconvert_exporter": "python",
   "pygments_lexer": "ipython3",
   "version": "3.6.8"
  }
 },
 "nbformat": 4,
 "nbformat_minor": 5
}